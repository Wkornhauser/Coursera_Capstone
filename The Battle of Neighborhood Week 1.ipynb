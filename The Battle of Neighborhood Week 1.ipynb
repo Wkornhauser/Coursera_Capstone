{
 "cells": [
  {
   "cell_type": "markdown",
   "metadata": {},
   "source": [
    "## Battle of the Neighborhoods"
   ]
  },
  {
   "cell_type": "markdown",
   "metadata": {},
   "source": [
    "### Problem Definition and Background"
   ]
  },
  {
   "cell_type": "markdown",
   "metadata": {},
   "source": [
    "A challenge many people may come across at some point in their lives is the requirement to decided upon a place of residence. A quick Google search may bring up results for \"Top 10 cities to live in today\", but each city is as equally diverse within itself as cities are diverse with regard to other cities.\n",
    "\n",
    "The aim of this project is to use Foursquare data along with crime data and potentially real estate data to identify and categorize different neighborhoods which meet the different wants and needs of a diverse set of people.\n",
    "\n",
    "Once this model has been developed, it can be used with new data to quickly put a new real estate listing into one of these categories, and then with targeted advertising, can be quickly shared with potential buyers who would be interested in that type of neighborhood.\n",
    "\n",
    "For this problem, the city of Melbourne, Australia was chosen. Melbourne is a popular city, frequently quoted as being \"most livable\" in Australia, and ranking high globaly. "
   ]
  },
  {
   "cell_type": "markdown",
   "metadata": {},
   "source": [
    "### Data required"
   ]
  },
  {
   "cell_type": "markdown",
   "metadata": {},
   "source": [
    "* A set of postal codes for Melbourne, which will be required to query data from Foursquare. This data may also be used as a feature in the model, however as building the model is an iterative process, there is no guarantee.\n",
    "\n",
    "\n",
    "* Foursquare data: This should include top picks, trending locations, food, coffee, nightlife, fun, shopping, breakfast spots, public schools and high schools, hospitals, universities and colleges, parks, groceries, libraries, and beaches. As previously stated, this list of features may be trimmed or may grow through the iterative process, but the idea is to select as many non-redundant features as possible which are comprised of interests for people from all perspectives. \n",
    "\n",
    "\n",
    "* Crime data: I don't believe that Foursquare is able to provide this kind of data, so some research would be required for this. The reason why I wish to include this is because low crime neighborhoods are obviously more desirable, and high crime neighborhoods may reflect characteristics of the real estate data. Because of this, the inclusion of this data is important.\n",
    "\n",
    "\n",
    "* Real estate data: This data can be used to segment the different neighborhoods based on incomes and wealth, and help to create a model which can be used to give potential home buyers options which are realistic and achievable."
   ]
  },
  {
   "cell_type": "code",
   "execution_count": null,
   "metadata": {},
   "outputs": [],
   "source": []
  }
 ],
 "metadata": {
  "kernelspec": {
   "display_name": "Python 3",
   "language": "python",
   "name": "python3"
  },
  "language_info": {
   "codemirror_mode": {
    "name": "ipython",
    "version": 3
   },
   "file_extension": ".py",
   "mimetype": "text/x-python",
   "name": "python",
   "nbconvert_exporter": "python",
   "pygments_lexer": "ipython3",
   "version": "3.7.6"
  }
 },
 "nbformat": 4,
 "nbformat_minor": 4
}
